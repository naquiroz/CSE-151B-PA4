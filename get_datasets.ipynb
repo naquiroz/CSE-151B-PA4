{
 "cells": [
  {
   "cell_type": "code",
   "execution_count": null,
   "metadata": {
    "cell_id": "00000-0bf12392-2f4e-4ba2-bcbb-6b88e694cc63",
    "deepnote_cell_type": "code",
    "execution_millis": 200,
    "output_cleared": false,
    "source_hash": "d5dcdfb1"
   },
   "outputs": [],
   "source": [
    "import csv\n",
    "import random\n",
    "from shutil import copyfile\n",
    "from pycocotools.coco import COCO"
   ]
  },
  {
   "cell_type": "code",
   "execution_count": null,
   "metadata": {
    "cell_id": "00001-e38b9ef8-7b40-4f33-b896-2baaf2268bff",
    "deepnote_cell_type": "code",
    "execution_millis": 4497,
    "execution_start": 1606865060032,
    "output_cleared": false,
    "source_hash": "a6bbd905"
   },
   "outputs": [],
   "source": [
    "#make directory and get annotations for training and testing\n",
    "!mkdir data\n",
    "!wget http://msvocds.blob.core.windows.net/annotations-1-0-3/captions_train-val2014.zip -P ./data/\n",
    "!unzip ./data/captions_train-val2014.zip -d ./data/\n",
    "!rm ./data/captions_train-val2014.zip"
   ]
  },
  {
   "cell_type": "code",
   "execution_count": null,
   "metadata": {
    "cell_id": "00002-48c2e2fe-6895-4b84-be7f-dede4c518052",
    "deepnote_cell_type": "code",
    "execution_millis": 2550,
    "execution_start": 1606865065748,
    "output_cleared": false,
    "source_hash": "38b6423c"
   },
   "outputs": [],
   "source": [
    "!mkdir data/images\n",
    "!mkdir data/images/train\n",
    "!mkdir data/images/val\n",
    "!mkdir data/images/test"
   ]
  },
  {
   "cell_type": "code",
   "execution_count": null,
   "metadata": {
    "cell_id": "00003-84a25352-723c-47c5-9dc6-60f121c2a003",
    "deepnote_cell_type": "code",
    "execution_millis": 1268,
    "execution_start": 1606865069470,
    "output_cleared": false,
    "source_hash": "d5944f24"
   },
   "outputs": [],
   "source": [
    "coco = COCO('./data/annotations/captions_train2014.json')"
   ]
  },
  {
   "cell_type": "code",
   "execution_count": null,
   "metadata": {
    "cell_id": "00004-f0b21c70-3d3f-4b00-ab7a-84d3d2f68aaa",
    "deepnote_cell_type": "code",
    "execution_millis": 7,
    "execution_start": 1606865072814,
    "output_cleared": false,
    "source_hash": "f8a4d184"
   },
   "outputs": [],
   "source": [
    "#get ids of training images\n",
    "with open('train_ids.csv', 'r') as f:\n",
    "    reader = csv.reader(f)\n",
    "    trainIds = list(reader)\n",
    "    \n",
    "trainIds = [int(i) for i in trainIds[0]]\n",
    "\n",
    "with open('val_ids.csv', 'r') as f:\n",
    "    reader = csv.reader(f)\n",
    "    valIds = list(reader)\n",
    "    \n",
    "valIds = [int(i) for i in valIds[0]]"
   ]
  },
  {
   "cell_type": "code",
   "execution_count": null,
   "metadata": {
    "cell_id": "00005-0a352088-e4e2-4f33-9855-e3335dc0ba19",
    "deepnote_cell_type": "code",
    "execution_millis": 2,
    "execution_start": 1606887157502,
    "output_cleared": false,
    "source_hash": "f1e82772",
    "tags": []
   },
   "outputs": [],
   "source": [
    "len(trainIds)"
   ]
  },
  {
   "cell_type": "code",
   "execution_count": null,
   "metadata": {
    "cell_id": "00005-4c3a2071-4fb1-47a7-ad15-5b74b23cc0ee",
    "deepnote_cell_type": "code",
    "execution_millis": 0,
    "execution_start": 1606865222184,
    "output_cleared": false,
    "source_hash": "43c97fad"
   },
   "outputs": [],
   "source": [
    "for img_id in trainIds:\n",
    "    path = coco.loadImgs(img_id)[0]['file_name']\n",
    "    copyfile('/datasets/COCO-2015/train2014/'+path, './data/images/train/'+path)\n",
    "for img_id in valIds:\n",
    "    path = coco.loadImgs(img_id)[0]['file_name']\n",
    "    copyfile('/datasets/COCO-2015/train2014/'+path, './data/images/val/'+path)"
   ]
  },
  {
   "cell_type": "code",
   "execution_count": null,
   "metadata": {
    "cell_id": "00006-1cbbe0d2-7078-43fd-89a5-9f336e84e4cc",
    "deepnote_cell_type": "code",
    "execution_millis": 6,
    "output_cleared": false,
    "source_hash": "b1cd1c0a"
   },
   "outputs": [],
   "source": [
    "cocoTest = COCO('./data/annotations/captions_val2014.json')"
   ]
  },
  {
   "cell_type": "code",
   "execution_count": null,
   "metadata": {
    "cell_id": "00007-10ceb12e-25c1-4837-99da-a3fe73e9a382",
    "deepnote_cell_type": "code",
    "execution_millis": 4,
    "execution_start": 1606865003914,
    "output_cleared": false,
    "source_hash": "86e8f0ce"
   },
   "outputs": [],
   "source": [
    "with open('TestImageIds.csv', 'r') as f:\n",
    "    reader = csv.reader(f)\n",
    "    testIds = list(reader)\n",
    "    \n",
    "testIds = [int(i) for i in testIds[0]]"
   ]
  },
  {
   "cell_type": "code",
   "execution_count": null,
   "metadata": {
    "cell_id": "00008-001936b1-ba89-468d-9d10-2973e9ee9758",
    "deepnote_cell_type": "code",
    "execution_millis": 4,
    "execution_start": 1606865004353,
    "output_cleared": false,
    "source_hash": "d7358fcd"
   },
   "outputs": [],
   "source": [
    "for img_id in testIds:\n",
    "    path = cocoTest.loadImgs(img_id)[0]['file_name']\n",
    "    copyfile('/datasets/COCO-2015/val2014/'+path, './data/images/test/'+path)"
   ]
  },
  {
   "cell_type": "code",
   "execution_count": null,
   "metadata": {
    "cell_id": "00009-a6ac5017-f30a-4d70-b6c4-9b16821e3ad6",
    "deepnote_cell_type": "code"
   },
   "outputs": [],
   "source": [
    "print(\"done\")"
   ]
  },
  {
   "cell_type": "code",
   "execution_count": null,
   "metadata": {
    "cell_id": "00010-864e8378-b258-44ea-9714-dad10328c6b6",
    "deepnote_cell_type": "code"
   },
   "outputs": [],
   "source": []
  }
 ],
 "metadata": {
  "deepnote_execution_queue": [],
  "deepnote_notebook_id": "4b9f6109-b0f8-4933-b172-8d2e1112cdb6",
  "kernelspec": {
   "display_name": "Python 3",
   "language": "python",
   "name": "python3"
  },
  "language_info": {
   "codemirror_mode": {
    "name": "ipython",
    "version": 3
   },
   "file_extension": ".py",
   "mimetype": "text/x-python",
   "name": "python",
   "nbconvert_exporter": "python",
   "pygments_lexer": "ipython3",
   "version": "3.7.6"
  }
 },
 "nbformat": 4,
 "nbformat_minor": 2
}
